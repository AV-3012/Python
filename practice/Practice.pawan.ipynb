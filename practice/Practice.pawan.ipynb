{
 "cells": [
  {
   "cell_type": "markdown",
   "id": "ce3c5dde-c358-45f9-b11e-935dcf20339e",
   "metadata": {},
   "source": [
    "#### Q. Write a program to read 2 numbers from the keyboard and print sum."
   ]
  },
  {
   "cell_type": "code",
   "execution_count": 1,
   "id": "34f84c27-336a-475b-bddf-8fa84f7c6d68",
   "metadata": {},
   "outputs": [
    {
     "name": "stdin",
     "output_type": "stream",
     "text": [
      "enter the value 10\n",
      "enter the value 20\n"
     ]
    },
    {
     "name": "stdout",
     "output_type": "stream",
     "text": [
      "the sum : 30\n"
     ]
    }
   ],
   "source": [
    "x = int(input(\"enter the value\"))\n",
    "y = int(input(\"enter the value\"))\n",
    "\n",
    "a = x+y\n",
    "print(\"the sum :\" , a)\n"
   ]
  },
  {
   "cell_type": "markdown",
   "id": "e6e009e1-c8c9-44d1-87dd-2e5e1da83a67",
   "metadata": {},
   "source": [
    "#### Q. Write a program to read Employee data from the keyboard and print that data."
   ]
  },
  {
   "cell_type": "code",
   "execution_count": 27,
   "id": "1882bbba-4691-4a7d-a989-38a6895e0e87",
   "metadata": {},
   "outputs": [
    {
     "name": "stdin",
     "output_type": "stream",
     "text": [
      "enter the value :  31\n",
      "enter the name :  anusha\n",
      "enter employee sal: 80000\n",
      "employee working or not?: false\n"
     ]
    },
    {
     "name": "stdout",
     "output_type": "stream",
     "text": [
      "Employee No.: 31\n",
      "Employee Name: anusha\n",
      "Employee salary: 80000.0\n",
      "Employee status: True\n"
     ]
    }
   ],
   "source": [
    "eno = int(input(\"enter the value : \"))\n",
    "ename = input(\"enter the name : \")\n",
    "esal = float(input(\"enter employee sal:\"))\n",
    "estatus = bool(input(\"employee working or not?:\"))\n",
    "\n",
    "print(\"Employee No.:\",eno)\n",
    "print(\"Employee Name:\",ename)\n",
    "print(\"Employee salary:\",esal)\n",
    "print(\"Employee status:\",estatus)"
   ]
  },
  {
   "cell_type": "markdown",
   "id": "55b94d43-3243-4090-9294-0c0358b188e6",
   "metadata": {},
   "source": [
    "#### Q. Write a program to read 3 float numbers from the keyboard with , seperator and print their sum."
   ]
  },
  {
   "cell_type": "code",
   "execution_count": 8,
   "id": "acafd463-859b-4ff8-8802-3e9da3149e9e",
   "metadata": {},
   "outputs": [
    {
     "name": "stdin",
     "output_type": "stream",
     "text": [
      "Enter 3 numbers: 11.5,8.9,10.9\n"
     ]
    },
    {
     "name": "stdout",
     "output_type": "stream",
     "text": [
      "Addition of given 3 numbers: 31.299999999999997\n"
     ]
    }
   ],
   "source": [
    "a,b,c = [float(x) for x in input(\"Enter 3 numbers:\").split(',')]\n",
    "print(\"Addition of given 3 numbers:\",a+b+c)"
   ]
  },
  {
   "cell_type": "code",
   "execution_count": 10,
   "id": "7bf52626-f9f4-4b80-a1d7-7c384ec4e4ca",
   "metadata": {},
   "outputs": [
    {
     "name": "stdin",
     "output_type": "stream",
     "text": [
      "Enter the list of values: 1,2,3,4,5,6\n"
     ]
    },
    {
     "name": "stdout",
     "output_type": "stream",
     "text": [
      "<class 'tuple'>\n"
     ]
    }
   ],
   "source": [
    "list = eval(input(\"Enter the list of values:\"))\n",
    "print(type(list))"
   ]
  },
  {
   "cell_type": "code",
   "execution_count": 11,
   "id": "6d1d2cb4-d278-472c-a044-d0fb84757eca",
   "metadata": {},
   "outputs": [
    {
     "name": "stdout",
     "output_type": "stream",
     "text": [
      "a value is 10\n",
      "b value is 20 and c value is 30\n"
     ]
    }
   ],
   "source": [
    "a,b,c = 10,20,30\n",
    "print(\"a value is %i\" %a)\n",
    "print(\"b value is %i and c value is %i\" %(b,c))"
   ]
  },
  {
   "cell_type": "code",
   "execution_count": 16,
   "id": "a02e8d69-d384-4603-b6ed-772865b97298",
   "metadata": {},
   "outputs": [
    {
     "name": "stdin",
     "output_type": "stream",
     "text": [
      "name anusha\n"
     ]
    },
    {
     "ename": "NameError",
     "evalue": "name 'age' is not defined",
     "output_type": "error",
     "traceback": [
      "\u001b[31m---------------------------------------------------------------------------\u001b[39m",
      "\u001b[31mNameError\u001b[39m                                 Traceback (most recent call last)",
      "\u001b[36mCell\u001b[39m\u001b[36m \u001b[39m\u001b[32mIn[16]\u001b[39m\u001b[32m, line 1\u001b[39m\n\u001b[32m----> \u001b[39m\u001b[32m1\u001b[39m \u001b[38;5;28mprint\u001b[39m(\u001b[33m\"\u001b[39m\u001b[33mEmployee name is\u001b[39m\u001b[33m\"\u001b[39m,\u001b[38;5;28minput\u001b[39m(\u001b[33m\"\u001b[39m\u001b[33mname\u001b[39m\u001b[33m\"\u001b[39m),\u001b[33m\"\u001b[39m\u001b[33mage is\u001b[39m\u001b[33m\"\u001b[39m,\u001b[38;5;28mint\u001b[39m(\u001b[38;5;28minput\u001b[39m(\u001b[43mage\u001b[49m)),\u001b[33m\"\u001b[39m\u001b[33mhis salary is:\u001b[39m\u001b[33m\"\u001b[39m,\u001b[38;5;28mfloat\u001b[39m(\u001b[38;5;28minput\u001b[39m(salary)))\n",
      "\u001b[31mNameError\u001b[39m: name 'age' is not defined"
     ]
    }
   ],
   "source": [
    "print(\"Employee name is\",input(\"name\"),\"age is\",int(input(age)),\"his salary is:\",float(input(salary)))"
   ]
  },
  {
   "cell_type": "markdown",
   "id": "84d3e6af-921b-4721-9a3c-94bd86477053",
   "metadata": {},
   "source": [
    "# if statement "
   ]
  },
  {
   "cell_type": "code",
   "execution_count": 18,
   "id": "82c2641f-49b1-4172-b83e-e2c5dca9e7b4",
   "metadata": {},
   "outputs": [
    {
     "name": "stdin",
     "output_type": "stream",
     "text": [
      "enter name: anusha\n"
     ]
    },
    {
     "name": "stdout",
     "output_type": "stream",
     "text": [
      "how are you anusha ?\n"
     ]
    }
   ],
   "source": [
    "name=input(\"enter name:\")\n",
    "if name==\"robert\":\n",
    "    print(\"hi\",name,\"good morning..\")\n",
    "print(\"how are you\",name,\"?\")"
   ]
  },
  {
   "cell_type": "markdown",
   "id": "b4eea650-0481-4812-af3c-872a94756234",
   "metadata": {},
   "source": [
    "## if-else"
   ]
  },
  {
   "cell_type": "code",
   "execution_count": 20,
   "id": "d0b871b9-1d5f-4435-a554-4ae4c116b734",
   "metadata": {},
   "outputs": [
    {
     "name": "stdin",
     "output_type": "stream",
     "text": [
      "enter name: robert\n"
     ]
    },
    {
     "name": "stdout",
     "output_type": "stream",
     "text": [
      "hi robert good morning..\n"
     ]
    }
   ],
   "source": [
    "name=input(\"enter name:\")\n",
    "if name==\"robert\":\n",
    "    print(\"hi\",name,\"good morning..\")\n",
    "else:\n",
    "    print(\"Invalid credentials...\")"
   ]
  },
  {
   "cell_type": "markdown",
   "id": "ede6f335-ff47-465b-89a8-caf5b9f0bcc0",
   "metadata": {},
   "source": [
    "## if-elif-else"
   ]
  },
  {
   "cell_type": "code",
   "execution_count": 21,
   "id": "7154f43c-110d-4881-bc65-15736d238292",
   "metadata": {},
   "outputs": [
    {
     "name": "stdin",
     "output_type": "stream",
     "text": [
      "enter name: anusha\n"
     ]
    },
    {
     "name": "stdout",
     "output_type": "stream",
     "text": [
      "you are not authorized person to enter into this server room\n"
     ]
    }
   ],
   "source": [
    "name=input(\"enter name:\")\n",
    "if name==\"robert\":\n",
    "    print(\"hi\",name,\"good morning..\")\n",
    "elif name==\"pawan\":\n",
    "    print(\"hi\",name,\"good morning..\")\n",
    "elif name==\"kiran\":\n",
    "    print(\"hi\",name,\"good morning..\")\n",
    "else:\n",
    "    print(\"you are not authorized person to enter into this server room\")"
   ]
  },
  {
   "cell_type": "code",
   "execution_count": 26,
   "id": "d3c4ba64-1f95-4df3-ae91-0daa43bfd684",
   "metadata": {},
   "outputs": [
    {
     "name": "stdin",
     "output_type": "stream",
     "text": [
      "enter num: 31\n"
     ]
    },
    {
     "name": "stdout",
     "output_type": "stream",
     "text": [
      "number is not defined\n"
     ]
    }
   ],
   "source": [
    "number=int(input(\"enter num:\"))\n",
    "if number==4:\n",
    "    print(\"hi\",number,\"is even\")\n",
    "elif number==5:\n",
    "    print(\"hi\",number,\"is odd\")\n",
    "elif number==0:\n",
    "    print(\"hi\",number,\"is whole number\")\n",
    "else:\n",
    "    print(\"number is not defined\")"
   ]
  },
  {
   "cell_type": "markdown",
   "id": "8d5bf460-3a03-433d-9a15-337d1822c52a",
   "metadata": {},
   "source": [
    "### Ex: Write a program to find biggest of given 2 numbers from the commad prompt?"
   ]
  },
  {
   "cell_type": "code",
   "execution_count": 29,
   "id": "2ddbdc08-3599-4af8-911e-bd8c7fa99dca",
   "metadata": {},
   "outputs": [
    {
     "name": "stdin",
     "output_type": "stream",
     "text": [
      "enter num1 :  25\n",
      "enter num2 :  45\n"
     ]
    },
    {
     "name": "stdout",
     "output_type": "stream",
     "text": [
      "45 is greater than 25\n"
     ]
    }
   ],
   "source": [
    "n1 = int(input(\"enter num1 : \"))\n",
    "n2 = int(input(\"enter num2 : \"))\n",
    "if n1>n2:\n",
    "    print(n1, \"is greater than\", n2)\n",
    "else:\n",
    "    print(n2, \"is greater than\", n1)"
   ]
  },
  {
   "cell_type": "markdown",
   "id": "0d7af5b6-3964-41e8-bdef-d72836473c91",
   "metadata": {},
   "source": [
    "### Ex: Write a program to find biggest of given 3 numbers from the commad prompt?"
   ]
  },
  {
   "cell_type": "code",
   "execution_count": 36,
   "id": "4862f274-63bd-4307-93fa-1285a16364a0",
   "metadata": {},
   "outputs": [
    {
     "name": "stdin",
     "output_type": "stream",
     "text": [
      "enter num1 :  10\n",
      "enter num2 :  11\n",
      "enter num3 :  12\n"
     ]
    },
    {
     "name": "stdout",
     "output_type": "stream",
     "text": [
      "12 is highest number\n"
     ]
    }
   ],
   "source": [
    "n1 = int(input(\"enter num1 : \"))\n",
    "n2 = int(input(\"enter num2 : \"))\n",
    "n3 = int(input(\"enter num3 : \"))\n",
    "if n1>n2 and n1>n3:\n",
    "    print(n1, \"is highest number\")\n",
    "elif n2>n3:\n",
    "    print(n2, \"is highest number\")\n",
    "else:\n",
    "    print(n3, \"is highest number\")"
   ]
  },
  {
   "cell_type": "markdown",
   "id": "66caa1e0-4bf6-449b-9f74-1c8c57abbc53",
   "metadata": {},
   "source": [
    "### Q. Write a program to find smallest of given 2 numbers?"
   ]
  },
  {
   "cell_type": "code",
   "execution_count": 38,
   "id": "e9d65826-de2a-4be3-ad10-59f577f5a8e3",
   "metadata": {},
   "outputs": [
    {
     "name": "stdin",
     "output_type": "stream",
     "text": [
      "enter num1 :  3\n",
      "enter num2 :  2\n"
     ]
    },
    {
     "name": "stdout",
     "output_type": "stream",
     "text": [
      "smaller num is  2\n"
     ]
    }
   ],
   "source": [
    "n1 = int(input(\"enter num1 : \"))\n",
    "n2 = int(input(\"enter num2 : \"))\n",
    "if n1<n2:\n",
    "    print(\"smaller num is \", n1)\n",
    "else:\n",
    "    print(\"smaller num is \", n2)"
   ]
  },
  {
   "cell_type": "markdown",
   "id": "ffde8a23-6170-4317-91d8-55f74a176ec5",
   "metadata": {},
   "source": [
    "#### Q. Write a program to find smallest of given 3 numbers?"
   ]
  },
  {
   "cell_type": "code",
   "execution_count": 41,
   "id": "208597e9-b71b-4726-83a1-0ccc9b0a6e12",
   "metadata": {},
   "outputs": [
    {
     "name": "stdin",
     "output_type": "stream",
     "text": [
      "enter num1 :  5\n",
      "enter num2 :  6\n",
      "enter num3 :  4\n"
     ]
    },
    {
     "name": "stdout",
     "output_type": "stream",
     "text": [
      "4 is smaller number\n"
     ]
    }
   ],
   "source": [
    "n1 = int(input(\"enter num1 : \"))\n",
    "n2 = int(input(\"enter num2 : \"))\n",
    "n3 = int(input(\"enter num3 : \"))\n",
    "if n1<n2 and n1<n3:\n",
    "    print(n1, \"is smaller number\")\n",
    "elif n2<n3:\n",
    "    print(n2, \"is smaller number\")\n",
    "else:\n",
    "    print(n3, \"is smaller number\")"
   ]
  },
  {
   "cell_type": "markdown",
   "id": "f8a72e24-a418-4aac-afd5-85808e12aa35",
   "metadata": {},
   "source": [
    "#### Q. Write a program to check whether the given number is even or odd?"
   ]
  },
  {
   "cell_type": "code",
   "execution_count": 46,
   "id": "1f0ec2d0-d305-4fc6-ab7e-dcdb545247f4",
   "metadata": {},
   "outputs": [
    {
     "name": "stdin",
     "output_type": "stream",
     "text": [
      "enter num1 :  4\n"
     ]
    },
    {
     "name": "stdout",
     "output_type": "stream",
     "text": [
      "4 is even\n"
     ]
    }
   ],
   "source": [
    "n1 = int(input(\"enter num1 : \"))\n",
    "if n1%2 == 0:\n",
    "    print(n1,\"is even\")\n",
    "else:\n",
    "    print(n1,\"is odd\")"
   ]
  },
  {
   "cell_type": "markdown",
   "id": "75e7043a-647c-45a2-8e9e-d20de7288774",
   "metadata": {},
   "source": [
    "#### Ex: Write a program to check whether the given number is in between 1 and 10?"
   ]
  },
  {
   "cell_type": "code",
   "execution_count": 48,
   "id": "2dbb2a44-37fa-44a8-906e-328b03972640",
   "metadata": {},
   "outputs": [
    {
     "name": "stdin",
     "output_type": "stream",
     "text": [
      "Enter the number: 15\n"
     ]
    },
    {
     "name": "stdout",
     "output_type": "stream",
     "text": [
      "The number 15 is not in between 1 to 10\n"
     ]
    }
   ],
   "source": [
    "n = int(input(\"Enter the number:\"))\n",
    "if n>=1 and n<=10:\n",
    "    print(\"The number %i is in between 1 to 10\" %n)\n",
    "else:\n",
    "    print(\"The number %i is not in between 1 to 10\" %n)"
   ]
  },
  {
   "cell_type": "code",
   "execution_count": 50,
   "id": "e4280983-7284-4303-9d46-beb6459e6806",
   "metadata": {},
   "outputs": [
    {
     "name": "stdin",
     "output_type": "stream",
     "text": [
      "Enter the number: 2\n"
     ]
    },
    {
     "name": "stdout",
     "output_type": "stream",
     "text": [
      "TWO\n"
     ]
    }
   ],
   "source": [
    "n = int(input(\"Enter the number:\"))\n",
    "if n==0:\n",
    "    print(\"ZERO\")\n",
    "elif n==1:\n",
    "    print(\"ONE\")\n",
    "elif n==2:\n",
    "    print(\"TWO\")\n",
    "else:\n",
    "    print(\"please enter the digits from 0 to 2\")"
   ]
  },
  {
   "cell_type": "code",
   "execution_count": null,
   "id": "04b3f6af-6cdb-4968-a974-b2b9db64bc2e",
   "metadata": {},
   "outputs": [],
   "source": []
  }
 ],
 "metadata": {
  "kernelspec": {
   "display_name": "Python 3 (ipykernel)",
   "language": "python",
   "name": "python3"
  },
  "language_info": {
   "codemirror_mode": {
    "name": "ipython",
    "version": 3
   },
   "file_extension": ".py",
   "mimetype": "text/x-python",
   "name": "python",
   "nbconvert_exporter": "python",
   "pygments_lexer": "ipython3",
   "version": "3.13.5"
  }
 },
 "nbformat": 4,
 "nbformat_minor": 5
}
