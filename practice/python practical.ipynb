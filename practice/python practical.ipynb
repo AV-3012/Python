{
 "cells": [
  {
   "cell_type": "code",
   "execution_count": 1,
   "id": "1e5f9a00-09b6-4dec-8997-cd2dde7ae2b6",
   "metadata": {},
   "outputs": [
    {
     "data": {
      "text/plain": [
       "'C:\\\\Users\\\\L13 Yoga'"
      ]
     },
     "execution_count": 1,
     "metadata": {},
     "output_type": "execute_result"
    }
   ],
   "source": [
    "import os\n",
    "os.getcwd()"
   ]
  },
  {
   "cell_type": "code",
   "execution_count": 1,
   "id": "03eb7d42-e229-4f58-9caa-b7e42f43135e",
   "metadata": {},
   "outputs": [
    {
     "data": {
      "text/plain": [
       "5"
      ]
     },
     "execution_count": 1,
     "metadata": {},
     "output_type": "execute_result"
    }
   ],
   "source": [
    "2+3"
   ]
  },
  {
   "cell_type": "code",
   "execution_count": 3,
   "id": "a9daf7f4-4cc0-48dd-9277-8a98cbe6e4ad",
   "metadata": {},
   "outputs": [
    {
     "data": {
      "text/plain": [
       "'Hello World'"
      ]
     },
     "execution_count": 3,
     "metadata": {},
     "output_type": "execute_result"
    }
   ],
   "source": [
    "\"Hello World\""
   ]
  },
  {
   "cell_type": "raw",
   "id": "cf7e6852-07c0-4345-8f2a-5bacc0d49704",
   "metadata": {},
   "source": [
    "print(\"hi\")"
   ]
  },
  {
   "cell_type": "code",
   "execution_count": 4,
   "id": "ae4131a0-152e-483b-9837-fccc921a35aa",
   "metadata": {},
   "outputs": [
    {
     "name": "stdout",
     "output_type": "stream",
     "text": [
      "Hi\n"
     ]
    }
   ],
   "source": [
    "print(\"Hi\")"
   ]
  },
  {
   "cell_type": "code",
   "execution_count": 5,
   "id": "757fd7ef-8180-4686-8581-3b6fda40cd1a",
   "metadata": {},
   "outputs": [
    {
     "name": "stdout",
     "output_type": "stream",
     "text": [
      "Hello World\n"
     ]
    }
   ],
   "source": [
    "print(\"Hello World\")"
   ]
  },
  {
   "cell_type": "code",
   "execution_count": null,
   "id": "292b0238-4ffc-4186-9b7e-f0fd93b14f5a",
   "metadata": {},
   "outputs": [],
   "source": [
    "2.Data Types and variables"
   ]
  },
  {
   "cell_type": "code",
   "execution_count": 8,
   "id": "b89bbe15-8476-49b6-8971-569cc929dcf3",
   "metadata": {},
   "outputs": [
    {
     "name": "stdout",
     "output_type": "stream",
     "text": [
      "Anu\n"
     ]
    }
   ],
   "source": [
    "# How to create variables and check the data type of variable\n",
    "name ='Anu'\n",
    "print(name)"
   ]
  },
  {
   "cell_type": "code",
   "execution_count": 9,
   "id": "561ca326-28da-4a16-8651-33778ce63e91",
   "metadata": {},
   "outputs": [
    {
     "name": "stdout",
     "output_type": "stream",
     "text": [
      "30\n"
     ]
    }
   ],
   "source": [
    "a=10\n",
    "b=20\n",
    "c=30\n",
    "print(c)"
   ]
  },
  {
   "cell_type": "code",
   "execution_count": 10,
   "id": "dca89fb9-9f28-4244-9e6f-9a78d121b5d6",
   "metadata": {},
   "outputs": [
    {
     "data": {
      "text/plain": [
       "int"
      ]
     },
     "execution_count": 10,
     "metadata": {},
     "output_type": "execute_result"
    }
   ],
   "source": [
    "#static type and dynamic type\n",
    "a = 10\n",
    "type(a)"
   ]
  },
  {
   "cell_type": "code",
   "execution_count": 11,
   "id": "f133513e-17e7-408b-b340-c5ff22349782",
   "metadata": {},
   "outputs": [
    {
     "data": {
      "text/plain": [
       "str"
      ]
     },
     "execution_count": 11,
     "metadata": {},
     "output_type": "execute_result"
    }
   ],
   "source": [
    "b = 'abc'\n",
    "type(b)"
   ]
  },
  {
   "cell_type": "code",
   "execution_count": null,
   "id": "21c9aa5e-7308-4815-990f-f337e4a8c844",
   "metadata": {},
   "outputs": [],
   "source": [
    "#python can support multiple data types like str,int,float,complex\n",
    "#int\n",
    "a = 10\n",
    "type(a)\n"
   ]
  },
  {
   "cell_type": "code",
   "execution_count": null,
   "id": "d01b957d-afd6-4ad8-8ece-1b376783cd9e",
   "metadata": {},
   "outputs": [],
   "source": [
    "#str\n",
    "name = 'Anu'\n",
    "type(name)"
   ]
  },
  {
   "cell_type": "code",
   "execution_count": null,
   "id": "4dbd6eed-92c8-4fff-9d53-4783c9352ecf",
   "metadata": {},
   "outputs": [],
   "source": [
    "#float\n",
    "b = 10.5\n",
    "type(b)"
   ]
  },
  {
   "cell_type": "code",
   "execution_count": null,
   "id": "fd55c1f7-b912-4435-9fcf-0bea46d58be6",
   "metadata": {},
   "outputs": [],
   "source": [
    "#complex\n",
    "c= 2+6j\n",
    "type(c)"
   ]
  },
  {
   "cell_type": "code",
   "execution_count": null,
   "id": "9f8f9e07-6f53-433c-832c-0f325681ac98",
   "metadata": {},
   "outputs": [],
   "source": [
    "#list\n",
    "d=[1,2,3,4]\n",
    "type(d)"
   ]
  },
  {
   "cell_type": "code",
   "execution_count": null,
   "id": "dd099dfc-995b-4b68-a2ab-355173407b14",
   "metadata": {},
   "outputs": [],
   "source": [
    "#tuple\n",
    "e=(1,2,3,4)\n",
    "type(e)"
   ]
  },
  {
   "cell_type": "code",
   "execution_count": null,
   "id": "60031de6-f78b-4467-95ef-ccd4aa1e7872",
   "metadata": {},
   "outputs": [],
   "source": [
    "#set\n",
    "f={1,2,3,4,5}\n",
    "type(f)"
   ]
  },
  {
   "cell_type": "code",
   "execution_count": null,
   "id": "9cb02dcd-1a9e-4810-8e58-4d704b421a26",
   "metadata": {},
   "outputs": [],
   "source": [
    "#dict\n",
    "g={'a':{1,2,3},'b':{4,5,6}}\n",
    "type(g)"
   ]
  },
  {
   "cell_type": "code",
   "execution_count": null,
   "id": "cfef0515-e205-4813-8df6-c57f58366050",
   "metadata": {},
   "outputs": [],
   "source": [
    "# input()\n",
    "email = input(\"enter your email address\")\n",
    "print(email)"
   ]
  },
  {
   "cell_type": "code",
   "execution_count": null,
   "id": "b43b3052-8c85-4cfe-8226-11ecd52f6fae",
   "metadata": {},
   "outputs": [],
   "source": [
    "email = input(\"enter your email address\")\n",
    "password = input(\"enter your email password\")\n",
    "print(email)"
   ]
  },
  {
   "cell_type": "code",
   "execution_count": null,
   "id": "5303f8d5-e536-456b-8e71-ca97de2adff2",
   "metadata": {},
   "outputs": [],
   "source": [
    "# type casting\n",
    "a = 20\n",
    "type(a)"
   ]
  },
  {
   "cell_type": "code",
   "execution_count": null,
   "id": "d66c765b-6bcc-44b8-8724-96db4af9e4f0",
   "metadata": {},
   "outputs": [],
   "source": [
    "a = '20'\n",
    "type(a)"
   ]
  },
  {
   "cell_type": "code",
   "execution_count": null,
   "id": "f3ef7030-3b50-4168-9e0b-23ae63e3e667",
   "metadata": {},
   "outputs": [],
   "source": [
    "a = int('20')\n",
    "type(a)"
   ]
  },
  {
   "cell_type": "code",
   "execution_count": null,
   "id": "f8498683-f09b-46f2-9a1f-5e5d990617e8",
   "metadata": {},
   "outputs": [],
   "source": [
    "a = str(20)\n",
    "type(a)"
   ]
  },
  {
   "cell_type": "code",
   "execution_count": null,
   "id": "0381d31d-27b1-4340-9263-2f73526c7ab3",
   "metadata": {},
   "outputs": [],
   "source": [
    "a = 20.5\n",
    "int(a)"
   ]
  },
  {
   "cell_type": "code",
   "execution_count": null,
   "id": "fd77014f-64ac-4728-a9a8-9f1bcb7e5ccb",
   "metadata": {},
   "outputs": [],
   "source": [
    "a = 10\n",
    "float(a)"
   ]
  },
  {
   "cell_type": "code",
   "execution_count": null,
   "id": "aeb6a0c9-41d9-4fe5-829f-8f296b5e3fa9",
   "metadata": {},
   "outputs": [],
   "source": [
    "a = 10\n",
    "str(a)"
   ]
  },
  {
   "cell_type": "markdown",
   "id": "c7446455-f85f-497c-844f-2aa125caee76",
   "metadata": {},
   "source": [
    "### operator \n",
    "1. Arithmetic Operator\n",
    "+ addition 5+3 = 8\n",
    "- subsraction 5-3 = 2\n",
    "* multiplication 5*3 = 15\n",
    "/ division 15/5 = 3\n",
    "// floor division 5//3\n",
    "% Modulus (Reminder) 5%3\n",
    "** Exponentiation 5**3 125"
   ]
  },
  {
   "cell_type": "code",
   "execution_count": 1,
   "id": "5e57391a-7fcc-402a-9eb2-a827d68aebc6",
   "metadata": {},
   "outputs": [
    {
     "data": {
      "text/plain": [
       "125"
      ]
     },
     "execution_count": 1,
     "metadata": {},
     "output_type": "execute_result"
    }
   ],
   "source": [
    "5+3\n",
    "5-3\n",
    "5*3\n",
    "5/3\n",
    "5//3\n",
    "5%3\n",
    "5**3"
   ]
  },
  {
   "cell_type": "markdown",
   "id": "e28dd7ad-b43a-4219-af10-1c8cfef6ee05",
   "metadata": {},
   "source": [
    "### 2. Comparison (Relational) Operator\n",
    " == Equal to 5 == 3 false\n",
    " != not equal to 5 != 3 true\n",
    " > greater than 5 > 3 true\n",
    " < less than 5 < 3 false\n",
    " >= greater than or equal 5 >= 3 true\n",
    " <= less than or equal to 5 <= 3 false\n",
    " % Modulus (Reminder) 5%3 \n"
   ]
  },
  {
   "cell_type": "code",
   "execution_count": 1,
   "id": "035ddad3-6e9c-4c8d-a8b0-ac39e5bb972f",
   "metadata": {},
   "outputs": [
    {
     "data": {
      "text/plain": [
       "False"
      ]
     },
     "execution_count": 1,
     "metadata": {},
     "output_type": "execute_result"
    }
   ],
   "source": [
    "5==3"
   ]
  },
  {
   "cell_type": "code",
   "execution_count": 2,
   "id": "ba179af4-b90c-457e-9604-e49eee632249",
   "metadata": {},
   "outputs": [
    {
     "data": {
      "text/plain": [
       "True"
      ]
     },
     "execution_count": 2,
     "metadata": {},
     "output_type": "execute_result"
    }
   ],
   "source": [
    "5>3"
   ]
  },
  {
   "cell_type": "code",
   "execution_count": 3,
   "id": "d1cd657e-ae55-4966-8177-a06994383b2c",
   "metadata": {},
   "outputs": [
    {
     "data": {
      "text/plain": [
       "True"
      ]
     },
     "execution_count": 3,
     "metadata": {},
     "output_type": "execute_result"
    }
   ],
   "source": [
    "5!=3"
   ]
  },
  {
   "cell_type": "code",
   "execution_count": 4,
   "id": "2586a262-be96-40df-b47f-938768834f41",
   "metadata": {},
   "outputs": [
    {
     "data": {
      "text/plain": [
       "False"
      ]
     },
     "execution_count": 4,
     "metadata": {},
     "output_type": "execute_result"
    }
   ],
   "source": [
    "5<3"
   ]
  },
  {
   "cell_type": "code",
   "execution_count": 5,
   "id": "1d526b58-a892-4dcb-b2af-95e06f90f1ac",
   "metadata": {},
   "outputs": [
    {
     "data": {
      "text/plain": [
       "True"
      ]
     },
     "execution_count": 5,
     "metadata": {},
     "output_type": "execute_result"
    }
   ],
   "source": [
    "5>=3"
   ]
  },
  {
   "cell_type": "code",
   "execution_count": 6,
   "id": "615a91e2-c7ea-4a05-b7d9-d428751870bb",
   "metadata": {},
   "outputs": [
    {
     "data": {
      "text/plain": [
       "False"
      ]
     },
     "execution_count": 6,
     "metadata": {},
     "output_type": "execute_result"
    }
   ],
   "source": [
    "5<=3"
   ]
  },
  {
   "cell_type": "markdown",
   "id": "aac81e0e-d5b1-4ff7-8088-2c6a3749ddc6",
   "metadata": {},
   "source": [
    "### 3 . Logical Operator\n",
    "combine conditional statements and returns boolen values\n",
    "operator discription Example Output\n",
    "and Logical AND True and False False\n",
    "or Logical OR True or False True\n",
    "not Logical NOT not True False"
   ]
  },
  {
   "cell_type": "code",
   "execution_count": 7,
   "id": "67d1da6a-dd4c-4d24-9b04-f9d9640b9610",
   "metadata": {},
   "outputs": [
    {
     "data": {
      "text/plain": [
       "False"
      ]
     },
     "execution_count": 7,
     "metadata": {},
     "output_type": "execute_result"
    }
   ],
   "source": [
    "True and False"
   ]
  },
  {
   "cell_type": "code",
   "execution_count": 8,
   "id": "1365dc27-bd1f-4633-970a-6d11a7a810e3",
   "metadata": {},
   "outputs": [
    {
     "data": {
      "text/plain": [
       "True"
      ]
     },
     "execution_count": 8,
     "metadata": {},
     "output_type": "execute_result"
    }
   ],
   "source": [
    "True or False"
   ]
  },
  {
   "cell_type": "markdown",
   "id": "3b903153-f3cb-4bd9-a980-c533f39e1f70",
   "metadata": {},
   "source": [
    "### 4. Assignment Operator\n",
    "+= add and assign x += 3 x = x+3\n",
    "-= substract and assign x -= 3 x = x-3\n",
    "*= multiply and assign x *= 3 x = x*3\n",
    "/= divide and assign x /= 3 x = x/3"
   ]
  },
  {
   "cell_type": "code",
   "execution_count": 3,
   "id": "0d221a2b-e7e6-4172-ba2f-9cad7535c71e",
   "metadata": {},
   "outputs": [
    {
     "name": "stdout",
     "output_type": "stream",
     "text": [
      "5\n"
     ]
    }
   ],
   "source": [
    "x=2\n",
    "x+=3\n",
    "print(x)"
   ]
  },
  {
   "cell_type": "markdown",
   "id": "6a8e0016-57c9-4cb1-b671-7ae6a7d33e24",
   "metadata": {},
   "source": [
    "### 5. membership operators\n",
    "in checks if a value exist 'a' in 'apple' true\n",
    "not in check if a value does not exist 'x' not in 'apple' True "
   ]
  },
  {
   "cell_type": "code",
   "execution_count": 13,
   "id": "2cbb12ee-8f91-443e-a6fe-80198a702491",
   "metadata": {},
   "outputs": [
    {
     "data": {
      "text/plain": [
       "True"
      ]
     },
     "execution_count": 13,
     "metadata": {},
     "output_type": "execute_result"
    }
   ],
   "source": [
    "'x' in 'xerox'"
   ]
  },
  {
   "cell_type": "code",
   "execution_count": 14,
   "id": "1e57ff66-696a-4b93-ae3f-c0ede41d7467",
   "metadata": {},
   "outputs": [
    {
     "data": {
      "text/plain": [
       "False"
      ]
     },
     "execution_count": 14,
     "metadata": {},
     "output_type": "execute_result"
    }
   ],
   "source": [
    "'a' in 'xerox'"
   ]
  },
  {
   "cell_type": "code",
   "execution_count": 15,
   "id": "97e6bd95-59e4-48e8-813e-ea74bc894d4c",
   "metadata": {},
   "outputs": [
    {
     "data": {
      "text/plain": [
       "True"
      ]
     },
     "execution_count": 15,
     "metadata": {},
     "output_type": "execute_result"
    }
   ],
   "source": [
    "'q' not in 'xerox'"
   ]
  },
  {
   "cell_type": "markdown",
   "id": "58836721-99ff-40db-b804-fed328e61530",
   "metadata": {},
   "source": [
    "### Python condition and if-else statements\n",
    "if statement\n",
    "if else statement\n",
    "if elif else statement\n",
    "nested if statement\n"
   ]
  },
  {
   "cell_type": "code",
   "execution_count": 17,
   "id": "c2e27189-c154-4e7e-b3c9-8f42cd0520bf",
   "metadata": {},
   "outputs": [
    {
     "name": "stdin",
     "output_type": "stream",
     "text": [
      "Enter your marks 25\n"
     ]
    },
    {
     "name": "stdout",
     "output_type": "stream",
     "text": [
      "25\n"
     ]
    },
    {
     "data": {
      "text/plain": [
       "str"
      ]
     },
     "execution_count": 17,
     "metadata": {},
     "output_type": "execute_result"
    }
   ],
   "source": [
    "# if statement\n",
    "# take user input and check if user input marks are greater than 33 then mark as pass\n",
    "num = input(\"Enter your marks\")\n",
    "print(num)\n",
    "type(num)"
   ]
  },
  {
   "cell_type": "code",
   "execution_count": 18,
   "id": "e0970cf4-ad80-44d0-ba09-d426d83fa900",
   "metadata": {},
   "outputs": [
    {
     "name": "stdin",
     "output_type": "stream",
     "text": [
      "Enter your marks 25\n"
     ]
    },
    {
     "name": "stdout",
     "output_type": "stream",
     "text": [
      "25\n"
     ]
    },
    {
     "data": {
      "text/plain": [
       "int"
      ]
     },
     "execution_count": 18,
     "metadata": {},
     "output_type": "execute_result"
    }
   ],
   "source": [
    "num = int(input(\"Enter your marks\"))\n",
    "print(num)\n",
    "type(num)"
   ]
  },
  {
   "cell_type": "code",
   "execution_count": 22,
   "id": "2cdcf754-5df7-4cef-9af2-baa81ab69721",
   "metadata": {},
   "outputs": [
    {
     "name": "stdin",
     "output_type": "stream",
     "text": [
      "Enter your marks 40\n"
     ]
    },
    {
     "name": "stdout",
     "output_type": "stream",
     "text": [
      "you are pass\n"
     ]
    }
   ],
   "source": [
    "num = int(input(\"Enter your marks\"))\n",
    "if num>33:\n",
    "   print(\"you are pass\")"
   ]
  },
  {
   "cell_type": "code",
   "execution_count": 24,
   "id": "821bd081-20b2-4bd6-8d0a-9f33376bc240",
   "metadata": {},
   "outputs": [
    {
     "name": "stdin",
     "output_type": "stream",
     "text": [
      "Enter your marks 20\n"
     ]
    },
    {
     "name": "stdout",
     "output_type": "stream",
     "text": [
      "you are not pass\n"
     ]
    }
   ],
   "source": [
    "num = int(input(\"Enter your marks\"))\n",
    "if num>33:\n",
    "   print(\"you are pass\")\n",
    "else:\n",
    "    print(\"you are not pass\")"
   ]
  },
  {
   "cell_type": "code",
   "execution_count": 33,
   "id": "a01dfee6-4921-4404-838b-c3e3c3df95e3",
   "metadata": {},
   "outputs": [
    {
     "name": "stdin",
     "output_type": "stream",
     "text": [
      "enter your marks 39\n"
     ]
    },
    {
     "name": "stdout",
     "output_type": "stream",
     "text": [
      "fail\n"
     ]
    }
   ],
   "source": [
    "# if elif else\n",
    "# if marks is >80 grade A, >60 grade B, >40 grade C marks <33 fail\n",
    "\n",
    "marks = int(input(\"enter your marks\"))\n",
    "if marks>80:\n",
    "    print(\"garde A\")\n",
    "elif marks>60:\n",
    "    print(\"grade B\")\n",
    "elif marks>40:\n",
    "    print(\"grade C\")\n",
    "else:\n",
    "    print(\"fail\")"
   ]
  },
  {
   "cell_type": "code",
   "execution_count": 20,
   "id": "109d508c-4bd7-4520-8bc0-aa9af2dcebec",
   "metadata": {},
   "outputs": [
    {
     "name": "stdout",
     "output_type": "stream",
     "text": [
      "2\n"
     ]
    }
   ],
   "source": [
    "num1=100\n",
    "num2=200\n",
    "num3=6\n",
    "if(5>=num3):\n",
    "    if(num1>100 or num2>150):\n",
    "        print(\"1\")\n",
    "elif(num1>=100 and num2>150):\n",
    "    print(\"2\")\n",
    "else:\n",
    "    print(\"3\")"
   ]
  },
  {
   "cell_type": "code",
   "execution_count": 37,
   "id": "affcc346-57ae-4cd6-98fa-1be7cfc185e7",
   "metadata": {},
   "outputs": [
    {
     "name": "stdin",
     "output_type": "stream",
     "text": [
      "Enter your marks 0\n"
     ]
    },
    {
     "name": "stdout",
     "output_type": "stream",
     "text": [
      "num zero\n"
     ]
    }
   ],
   "source": [
    "# nested if\n",
    "# if num=0 print 0, num<0 print negative, if num>0 p check if num is even or odd\n",
    "num = int(input(\"Enter your marks\"))\n",
    "if num>0:\n",
    "   print(\"num is positive\")\n",
    "   if num%2==0:\n",
    "      print(\"even\")\n",
    "   else:\n",
    "      print(\"odd\")\n",
    "elif num==0:\n",
    "    print(\"num zero\")\n",
    "else:\n",
    "    print(\"num is negative\")\n",
    "    \n"
   ]
  },
  {
   "cell_type": "markdown",
   "id": "ee20050f-a1d0-4565-a286-16d05b78724e",
   "metadata": {},
   "source": [
    "### for loop\n",
    "A for loop is used for iterating over a sequence (that is either a list,a tuple,a dictionary, a set or a string)\n",
    "This is less like the for keyword in other programming langauage, and work more like an iterator method as found in other abject oriented programming language\n",
    "With the loop we can execute a set of statements, once for each item in a list,tuple \n"
   ]
  },
  {
   "cell_type": "code",
   "execution_count": 38,
   "id": "06bc3a2c-b7b7-43c3-9c22-405825b65d1c",
   "metadata": {},
   "outputs": [
    {
     "name": "stdout",
     "output_type": "stream",
     "text": [
      "apple\n",
      "banana\n",
      "orange\n"
     ]
    }
   ],
   "source": [
    "# looping through list\n",
    "fruits = [\"apple\",\"banana\",\"orange\"]\n",
    "for i in fruits:\n",
    "    print(i)\n"
   ]
  },
  {
   "cell_type": "code",
   "execution_count": 39,
   "id": "bba1eaf2-2817-49db-acfb-eb9def4e1a63",
   "metadata": {},
   "outputs": [
    {
     "name": "stdout",
     "output_type": "stream",
     "text": [
      "eat apple\n",
      "eat banana\n",
      "eat orange\n"
     ]
    }
   ],
   "source": [
    "fruits = [\"apple\",\"banana\",\"orange\"]\n",
    "for i in fruits:\n",
    "    print('eat',i)"
   ]
  },
  {
   "cell_type": "code",
   "execution_count": 40,
   "id": "4823c51e-8eb0-4f34-9a43-65ef4524c01c",
   "metadata": {},
   "outputs": [
    {
     "name": "stdout",
     "output_type": "stream",
     "text": [
      "h\n",
      "e\n",
      "l\n",
      "l\n",
      "o\n",
      " \n",
      "w\n",
      "o\n",
      "r\n",
      "l\n",
      "d\n"
     ]
    }
   ],
   "source": [
    "# looping through strings\n",
    "x = 'hello world'\n",
    "for i in x:\n",
    "    print(i)"
   ]
  },
  {
   "cell_type": "code",
   "execution_count": 42,
   "id": "906a99ce-b14d-4a75-b1a5-2f0347d244ff",
   "metadata": {},
   "outputs": [
    {
     "name": "stdout",
     "output_type": "stream",
     "text": [
      "1\n",
      "2\n",
      "3\n",
      "5\n"
     ]
    }
   ],
   "source": [
    "# break statement\n",
    "# iterate till 5\n",
    "l = [1,2,3,5,7,8,9]\n",
    "for i in l:\n",
    "    if i==7:\n",
    "        break\n",
    "    print(i)"
   ]
  },
  {
   "cell_type": "code",
   "execution_count": 47,
   "id": "6ea8abd3-1bfc-43fe-9d57-57d7fbcbbc0a",
   "metadata": {},
   "outputs": [
    {
     "name": "stdout",
     "output_type": "stream",
     "text": [
      "h\n",
      "e\n",
      "o\n",
      " \n",
      "w\n",
      "o\n",
      "r\n",
      "d\n"
     ]
    }
   ],
   "source": [
    "# the continue statement\n",
    "## print all letters except l\n",
    "x = 'hello world'\n",
    "for i in x:\n",
    "    if i=='l':\n",
    "     continue\n",
    "    print(i)"
   ]
  },
  {
   "cell_type": "code",
   "execution_count": 48,
   "id": "f8e8575f-47a8-4376-81c7-1ef154de86f5",
   "metadata": {},
   "outputs": [
    {
     "name": "stdout",
     "output_type": "stream",
     "text": [
      "0\n",
      "1\n",
      "2\n",
      "3\n",
      "4\n",
      "5\n",
      "6\n"
     ]
    }
   ],
   "source": [
    "# the range function()\n",
    "for i in range(7):\n",
    "    print(i)"
   ]
  },
  {
   "cell_type": "code",
   "execution_count": 50,
   "id": "83e2bf79-a930-4700-8f14-bc3b09e65977",
   "metadata": {},
   "outputs": [
    {
     "name": "stdout",
     "output_type": "stream",
     "text": [
      "0\n",
      "3\n",
      "6\n"
     ]
    }
   ],
   "source": [
    "for i in range(0,7,3):\n",
    "    print(i)"
   ]
  },
  {
   "cell_type": "code",
   "execution_count": 51,
   "id": "2cd4a60c-d129-4100-897d-99233f0609a6",
   "metadata": {},
   "outputs": [
    {
     "name": "stdout",
     "output_type": "stream",
     "text": [
      "hi\n",
      "hi\n",
      "hi\n",
      "hi\n",
      "hi\n",
      "hi\n",
      "hi\n"
     ]
    }
   ],
   "source": [
    "for i in range(7):\n",
    "    print('hi')"
   ]
  },
  {
   "cell_type": "code",
   "execution_count": 52,
   "id": "af902c93-bfb9-4230-a4ae-3dc8d7e74270",
   "metadata": {},
   "outputs": [
    {
     "name": "stdout",
     "output_type": "stream",
     "text": [
      "1 2\n",
      "1 4\n",
      "1 6\n",
      "1 8\n",
      "1 10\n",
      "3 2\n",
      "3 4\n",
      "3 6\n",
      "3 8\n",
      "3 10\n",
      "5 2\n",
      "5 4\n",
      "5 6\n",
      "5 8\n",
      "5 10\n",
      "7 2\n",
      "7 4\n",
      "7 6\n",
      "7 8\n",
      "7 10\n",
      "9 2\n",
      "9 4\n",
      "9 6\n",
      "9 8\n",
      "9 10\n"
     ]
    }
   ],
   "source": [
    "# nested loop\n",
    "x = [1,3,5,7,9]\n",
    "y = [2,4,6,8,10]\n",
    "for i in x:\n",
    "    for j in y:\n",
    "        print(i , j)"
   ]
  },
  {
   "cell_type": "markdown",
   "id": "006daae6-ef3b-434a-bf22-8c29deaa2bb3",
   "metadata": {},
   "source": [
    "# WHile loop\n",
    "pyhton has 2 premilative loops commands:\n",
    "for loops\n",
    "while loops\n",
    "with the while loops we can execute a set of statements as long as the condition is true\n",
    "\n"
   ]
  },
  {
   "cell_type": "code",
   "execution_count": 56,
   "id": "7e3a9076-1331-4023-8ca5-1527f0e3750f",
   "metadata": {},
   "outputs": [
    {
     "name": "stdout",
     "output_type": "stream",
     "text": [
      "1\n",
      "2\n",
      "3\n",
      "4\n",
      "5\n",
      "6\n"
     ]
    }
   ],
   "source": [
    "# print i as long as i is less than 6\n",
    "i=1\n",
    "while i<7:\n",
    "    print(i)\n",
    "    i=i+1"
   ]
  },
  {
   "cell_type": "code",
   "execution_count": 58,
   "id": "2ccec046-6cff-44d9-aa27-db8a139caced",
   "metadata": {},
   "outputs": [
    {
     "name": "stdout",
     "output_type": "stream",
     "text": [
      "0\n",
      "1\n",
      "2\n",
      "3\n",
      "4\n",
      "5\n",
      "6\n"
     ]
    }
   ],
   "source": [
    "for i in range(7):\n",
    "  print(i)"
   ]
  },
  {
   "cell_type": "code",
   "execution_count": 28,
   "id": "b73a3667-a224-4754-bbb9-dabce16a701e",
   "metadata": {},
   "outputs": [
    {
     "name": "stdout",
     "output_type": "stream",
     "text": [
      "1\n",
      "2\n",
      "3\n",
      "4\n",
      "5\n",
      "6\n",
      "7\n",
      "8\n",
      "9\n"
     ]
    }
   ],
   "source": [
    "# break\n",
    "x=[1,2,3,4,5,6,7,8,9] #iterable\n",
    "for iterator in x:   #__next__()  #stopIteration\n",
    "   # if iterator==7:\n",
    "   #  break \n",
    "   print(iterator)"
   ]
  },
  {
   "cell_type": "code",
   "execution_count": 35,
   "id": "e0e28a18-a7fd-441e-b557-9a8f4c0ecb25",
   "metadata": {},
   "outputs": [
    {
     "data": {
      "text/plain": [
       "int"
      ]
     },
     "execution_count": 35,
     "metadata": {},
     "output_type": "execute_result"
    }
   ],
   "source": [
    "a = 2   #PVM\n",
    "type(a)"
   ]
  },
  {
   "cell_type": "code",
   "execution_count": 37,
   "id": "80ec9588-a549-4e3a-8c61-996e13173e96",
   "metadata": {},
   "outputs": [
    {
     "name": "stdout",
     "output_type": "stream",
     "text": [
      "5\n"
     ]
    }
   ],
   "source": [
    "a = 2\n",
    "b= 3\n",
    "print(a+b)"
   ]
  },
  {
   "cell_type": "code",
   "execution_count": 39,
   "id": "d63e25f4-4440-45eb-8907-a57fece7d128",
   "metadata": {},
   "outputs": [
    {
     "data": {
      "text/plain": [
       "'pavan'"
      ]
     },
     "execution_count": 39,
     "metadata": {},
     "output_type": "execute_result"
    }
   ],
   "source": [
    "a = 'pav'\n",
    "b = 'an'\n",
    "a+b"
   ]
  },
  {
   "cell_type": "code",
   "execution_count": null,
   "id": "5492343b-ae56-4fe6-a56a-662e0d3adeb2",
   "metadata": {},
   "outputs": [],
   "source": [
    "int a =2   #JVM"
   ]
  },
  {
   "cell_type": "code",
   "execution_count": 31,
   "id": "e0564e62-dfb7-4dc3-b2ec-34e5a70989b9",
   "metadata": {},
   "outputs": [],
   "source": [
    "\n",
    "school = ['pavan','kumar','ram']\n",
    "school.append('abc')\n",
    "school.append('cbd')"
   ]
  },
  {
   "cell_type": "code",
   "execution_count": 34,
   "id": "8ee00d0a-adf5-475a-8dfe-a58cf432f579",
   "metadata": {},
   "outputs": [
    {
     "name": "stdout",
     "output_type": "stream",
     "text": [
      "[1, 2, 3, 4, 5, 6]\n"
     ]
    }
   ],
   "source": [
    "l1 = [1,2,3]\n",
    "l2 = [4,5,6]\n",
    "l1.extend(l2)\n",
    "#[1,2,3,4,5,6]\n",
    "print(l1)"
   ]
  },
  {
   "cell_type": "code",
   "execution_count": null,
   "id": "24e0d2a4-22da-49b0-95c1-c771ad45d652",
   "metadata": {},
   "outputs": [],
   "source": [
    "append and extend"
   ]
  },
  {
   "cell_type": "code",
   "execution_count": 32,
   "id": "a726fe6d-9143-4291-8263-471bf06182b3",
   "metadata": {},
   "outputs": [
    {
     "name": "stdout",
     "output_type": "stream",
     "text": [
      "['pavan', 'kumar', 'ram', 'abc', 'cbd']\n"
     ]
    }
   ],
   "source": [
    "print(school)"
   ]
  },
  {
   "cell_type": "code",
   "execution_count": null,
   "id": "a44a3784-1a5b-4196-8adc-ddff662bcd44",
   "metadata": {},
   "outputs": [],
   "source": [
    "[1,2,3,4,5]"
   ]
  },
  {
   "cell_type": "code",
   "execution_count": 78,
   "id": "51653e8e-9918-429c-9edd-548cdbbc2beb",
   "metadata": {},
   "outputs": [
    {
     "name": "stdout",
     "output_type": "stream",
     "text": [
      "0\n",
      "1\n",
      "2\n"
     ]
    }
   ],
   "source": [
    "i=0\n",
    "while i<6:\n",
    "    if i==3:\n",
    "        break \n",
    "    print(i)\n",
    "    i=i+1"
   ]
  },
  {
   "cell_type": "code",
   "execution_count": null,
   "id": "9be5784d-af2a-40a1-a1fd-c94a7ee69e4d",
   "metadata": {},
   "outputs": [],
   "source": [
    "# continue\n",
    "i=0\n",
    "while i<6:\n",
    "    i=i+1\n",
    "    if i==3:\n",
    "        continue\n",
    "    print(i)\n",
    "  "
   ]
  },
  {
   "cell_type": "markdown",
   "id": "d97e8009-5b48-4201-852b-00a556971859",
   "metadata": {},
   "source": [
    "### 9. list\n",
    "features of list\n",
    "ordered : elements have defined order and can be accessed by thier index\n",
    "mutable: elaments can be changed,removed and added\n",
    "heterogenous : can store elements of different type(int,str,float)\n",
    "dynamic: list are grow or shrink as data is added or removed\n",
    "\n"
   ]
  },
  {
   "cell_type": "code",
   "execution_count": 11,
   "id": "4cfc8299-21a2-42c3-9132-5c2a1af9da6b",
   "metadata": {},
   "outputs": [
    {
     "data": {
      "text/plain": [
       "4"
      ]
     },
     "execution_count": 11,
     "metadata": {},
     "output_type": "execute_result"
    }
   ],
   "source": [
    "l=[1,2,3,4,5]\n",
    "l[3]\n"
   ]
  },
  {
   "cell_type": "code",
   "execution_count": null,
   "id": "905102d6-49f9-4901-b9c8-98d73d15ae01",
   "metadata": {},
   "outputs": [],
   "source": [
    "#create list\n",
    "a = [1,2,3,'apple']\n",
    "type(a)"
   ]
  },
  {
   "cell_type": "code",
   "execution_count": null,
   "id": "9ec5ed5d-c288-40ff-89d7-67f8bff099ac",
   "metadata": {},
   "outputs": [],
   "source": [
    "# ordered - index\n",
    "a = [1,2,3,5,7,'apple']\n",
    "#index start - 0\n",
    "# index end - -1\n",
    "a[3]\n",
    "a"
   ]
  },
  {
   "cell_type": "code",
   "execution_count": 12,
   "id": "4e7982a7-c5c3-4792-a3a1-08c909af3ab2",
   "metadata": {},
   "outputs": [
    {
     "data": {
      "text/plain": [
       "[2, 3, 4, 5, 7]"
      ]
     },
     "execution_count": 12,
     "metadata": {},
     "output_type": "execute_result"
    }
   ],
   "source": [
    "# mutable\n",
    "a = [1,3,4,5,7]\n",
    "a[0] = 2\n",
    "a"
   ]
  },
  {
   "cell_type": "code",
   "execution_count": null,
   "id": "019ac039-c72b-4b7b-8205-f8ab3147b42f",
   "metadata": {},
   "outputs": [],
   "source": [
    "list methods\n"
   ]
  },
  {
   "cell_type": "code",
   "execution_count": null,
   "id": "cc3c7067-dba7-48a7-bb2c-719446714e35",
   "metadata": {},
   "outputs": [],
   "source": [
    "# append - adds on elements to the end of a list\n",
    "a = [1,3,4,5,6,7]\n",
    "a.append(9)\n",
    "a"
   ]
  },
  {
   "cell_type": "code",
   "execution_count": 13,
   "id": "4df71615-0549-4de1-9bba-1964c70438b4",
   "metadata": {},
   "outputs": [
    {
     "data": {
      "text/plain": [
       "[1, 3, 5, 9, 6, 7]"
      ]
     },
     "execution_count": 13,
     "metadata": {},
     "output_type": "execute_result"
    }
   ],
   "source": [
    "#insert - insert an element at specific indem\n",
    "a = [1,3,5,6,7]\n",
    "a.insert(3,9)\n",
    "a"
   ]
  },
  {
   "cell_type": "code",
   "execution_count": null,
   "id": "383c0efb-c472-424d-819b-4515b9737699",
   "metadata": {},
   "outputs": [],
   "source": [
    "# remove - remove the first occurance of a value\n",
    "a.remove(6)\n",
    "a"
   ]
  },
  {
   "cell_type": "code",
   "execution_count": null,
   "id": "738b6814-ce63-4af5-bbb0-67960aafca38",
   "metadata": {},
   "outputs": [],
   "source": [
    "# pop - removes on element on index and returns it\n"
   ]
  },
  {
   "cell_type": "code",
   "execution_count": null,
   "id": "7b1c15d9-34eb-46ad-ac11-261028968ef8",
   "metadata": {},
   "outputs": [],
   "source": [
    "# sort() sorts the list of ascending order"
   ]
  },
  {
   "cell_type": "code",
   "execution_count": null,
   "id": "4ff19edb-2a2e-492c-9763-0e0afe798e43",
   "metadata": {},
   "outputs": [],
   "source": [
    "# reverse() reverse the list"
   ]
  },
  {
   "cell_type": "code",
   "execution_count": null,
   "id": "0e008000-5a9c-453a-abce-653230c52998",
   "metadata": {},
   "outputs": [],
   "source": [
    "# extend() Adds elements from another list"
   ]
  },
  {
   "cell_type": "code",
   "execution_count": null,
   "id": "95368c75-f142-4aaa-9311-0e31c886d5d6",
   "metadata": {},
   "outputs": [],
   "source": [
    "# index() Returns the index of the first occurance of a value"
   ]
  },
  {
   "cell_type": "code",
   "execution_count": null,
   "id": "14ccde5f-63a5-450c-a9cd-8f9c04819ecb",
   "metadata": {},
   "outputs": [],
   "source": [
    "# count() count occurance of a value"
   ]
  },
  {
   "cell_type": "markdown",
   "id": "127f3020-a4c6-4023-9acf-0d4a5a5bf508",
   "metadata": {},
   "source": [
    "11. listing coding questions\n",
    "1. write a python program to find a largest number \n"
   ]
  },
  {
   "cell_type": "code",
   "execution_count": 2,
   "id": "a6b519ba-ee7c-4f6a-badc-51d0b370cb71",
   "metadata": {},
   "outputs": [
    {
     "data": {
      "text/plain": [
       "99"
      ]
     },
     "execution_count": 2,
     "metadata": {},
     "output_type": "execute_result"
    }
   ],
   "source": [
    "l=[1,33,77,56,99]\n",
    "#inbuilt method\n",
    "max(l)"
   ]
  },
  {
   "cell_type": "code",
   "execution_count": 3,
   "id": "a18164f6-d29e-4ea5-9a0e-e9133c3cc275",
   "metadata": {},
   "outputs": [
    {
     "name": "stdout",
     "output_type": "stream",
     "text": [
      "99\n"
     ]
    }
   ],
   "source": [
    "#without inbuilt method\n",
    "l=[1,33,77,56,99]\n",
    "largest=0\n",
    "for i in l:\n",
    "    if i>largest:\n",
    "        largest=i\n",
    "print(largest)"
   ]
  },
  {
   "cell_type": "markdown",
   "id": "b79c70a4-b76d-4fe4-97c5-8484a0a09ba9",
   "metadata": {},
   "source": [
    "2. python program for finding lowest number"
   ]
  },
  {
   "cell_type": "code",
   "execution_count": 4,
   "id": "708d3de8-1a6f-468c-b662-835d85afcdfe",
   "metadata": {},
   "outputs": [
    {
     "data": {
      "text/plain": [
       "1"
      ]
     },
     "execution_count": 4,
     "metadata": {},
     "output_type": "execute_result"
    }
   ],
   "source": [
    "l=[1,33,77,56,99]\n",
    "#inbuilt method\n",
    "min(l)"
   ]
  },
  {
   "cell_type": "code",
   "execution_count": 5,
   "id": "a2c78632-1617-4d65-9293-b9ebaa7bfc74",
   "metadata": {},
   "outputs": [
    {
     "name": "stdout",
     "output_type": "stream",
     "text": [
      "1\n"
     ]
    }
   ],
   "source": [
    "#without inbuilt method\n",
    "l=[1,33,77,56,99]\n",
    "lowest=99\n",
    "for i in l:\n",
    "    if i<lowest:\n",
    "        lowest=i\n",
    "print(lowest)"
   ]
  },
  {
   "cell_type": "markdown",
   "id": "527b1b26-650d-42b0-a813-efa919848152",
   "metadata": {},
   "source": [
    "3. Python program to interchange first and last number in a list\n"
   ]
  },
  {
   "cell_type": "code",
   "execution_count": 8,
   "id": "66a9d150-bd84-4e93-9951-349c4afd13ce",
   "metadata": {},
   "outputs": [
    {
     "data": {
      "text/plain": [
       "[99, 3, 7, 77, 1]"
      ]
     },
     "execution_count": 8,
     "metadata": {},
     "output_type": "execute_result"
    }
   ],
   "source": [
    "l=[1,3,7,77,99]\n",
    "l[0],l[-1] = l[-1],l[0]\n",
    "l\n"
   ]
  },
  {
   "cell_type": "markdown",
   "id": "7cf8886d-03fa-4241-9441-bcfd966058df",
   "metadata": {},
   "source": [
    "4. Python program to swap two numbers in a list"
   ]
  },
  {
   "cell_type": "code",
   "execution_count": 9,
   "id": "3bdb7860-6d9a-44e4-9423-feea9b1f3d18",
   "metadata": {},
   "outputs": [
    {
     "data": {
      "text/plain": [
       "[1, 3, 77, 7, 99]"
      ]
     },
     "execution_count": 9,
     "metadata": {},
     "output_type": "execute_result"
    }
   ],
   "source": [
    "l=[1,3,7,77,99]\n",
    "l[2],l[3] = l[3],l[2]\n",
    "l"
   ]
  },
  {
   "cell_type": "markdown",
   "id": "e4decf55-87e7-4b34-ae5a-cb22e7b37bfe",
   "metadata": {},
   "source": [
    "### 5. reverse a list using python"
   ]
  },
  {
   "cell_type": "code",
   "execution_count": 14,
   "id": "111fe75d-8616-4472-82bc-6fd44cd361e2",
   "metadata": {},
   "outputs": [
    {
     "data": {
      "text/plain": [
       "[99, 77, 7, 3, 1]"
      ]
     },
     "execution_count": 14,
     "metadata": {},
     "output_type": "execute_result"
    }
   ],
   "source": [
    "l=[1,3,7,77,99]\n",
    "l[0],l[1],l[2],l[3],l[4]=l[4],l[3],l[2],l[1],l[0]\n",
    "l"
   ]
  },
  {
   "cell_type": "code",
   "execution_count": 1,
   "id": "a827c3a2-54ff-492e-832d-839fd357ddca",
   "metadata": {},
   "outputs": [
    {
     "data": {
      "text/plain": [
       "[99, 77, 7, 3, 1]"
      ]
     },
     "execution_count": 1,
     "metadata": {},
     "output_type": "execute_result"
    }
   ],
   "source": [
    "## in built method\n",
    "l=[1,3,7,77,99]\n",
    "l.reverse()\n",
    "l"
   ]
  },
  {
   "cell_type": "code",
   "execution_count": 6,
   "id": "459e020c-3128-4383-84e1-9045566d01ac",
   "metadata": {},
   "outputs": [
    {
     "ename": "TypeError",
     "evalue": "object of type 'int' has no len()",
     "output_type": "error",
     "traceback": [
      "\u001b[31m---------------------------------------------------------------------------\u001b[39m",
      "\u001b[31mTypeError\u001b[39m                                 Traceback (most recent call last)",
      "\u001b[36mCell\u001b[39m\u001b[36m \u001b[39m\u001b[32mIn[6]\u001b[39m\u001b[32m, line 4\u001b[39m\n\u001b[32m      2\u001b[39m l=[\u001b[32m1\u001b[39m,\u001b[32m3\u001b[39m,\u001b[32m7\u001b[39m,\u001b[32m77\u001b[39m,\u001b[32m99\u001b[39m]\n\u001b[32m      3\u001b[39m a=[]\n\u001b[32m----> \u001b[39m\u001b[32m4\u001b[39m \u001b[38;5;28;01mfor\u001b[39;00m i \u001b[38;5;129;01min\u001b[39;00m \u001b[38;5;28mrange\u001b[39m(\u001b[38;5;28;43mlen\u001b[39;49m\u001b[43m(\u001b[49m\u001b[32;43m1\u001b[39;49m\u001b[43m)\u001b[49m-\u001b[32m1\u001b[39m,-\u001b[32m1\u001b[39m,-\u001b[32m1\u001b[39m):\n\u001b[32m      5\u001b[39m     a.append(l[i])\n\u001b[32m      6\u001b[39m l\n",
      "\u001b[31mTypeError\u001b[39m: object of type 'int' has no len()"
     ]
    }
   ],
   "source": [
    "### without inbuilt method\n",
    "l=[1,3,7,77,99]\n",
    "a=[]\n",
    "for i in range(len(1)-1,-1,-1):\n",
    "    a.append(l[i])\n",
    "l"
   ]
  },
  {
   "cell_type": "markdown",
   "id": "5c92c760-0ecf-457f-bb65-c88b8bcb3133",
   "metadata": {},
   "source": [
    "### 6. Find sum of list in python"
   ]
  },
  {
   "cell_type": "code",
   "execution_count": 7,
   "id": "b139c408-def8-4536-9fea-6beed7d351ff",
   "metadata": {},
   "outputs": [
    {
     "data": {
      "text/plain": [
       "28"
      ]
     },
     "execution_count": 7,
     "metadata": {},
     "output_type": "execute_result"
    }
   ],
   "source": [
    "l = [1,2,3,4,5,6,7]\n",
    "sum(l)\n"
   ]
  },
  {
   "cell_type": "code",
   "execution_count": 9,
   "id": "b033da07-382b-46b2-8094-5c2e04a25215",
   "metadata": {},
   "outputs": [
    {
     "data": {
      "text/plain": [
       "28"
      ]
     },
     "execution_count": 9,
     "metadata": {},
     "output_type": "execute_result"
    }
   ],
   "source": [
    "sm = 0\n",
    "for i in l:\n",
    "    sm=sm+i\n",
    "sm"
   ]
  },
  {
   "cell_type": "markdown",
   "id": "8773e65b-a486-4b90-9c1b-a8a64b72229e",
   "metadata": {},
   "source": [
    "#### 7. Find sum and avg of list in python"
   ]
  },
  {
   "cell_type": "code",
   "execution_count": 12,
   "id": "eeb59673-790f-436a-8e27-78fa83bb3258",
   "metadata": {},
   "outputs": [
    {
     "ename": "NameError",
     "evalue": "name 'average' is not defined",
     "output_type": "error",
     "traceback": [
      "\u001b[31m---------------------------------------------------------------------------\u001b[39m",
      "\u001b[31mNameError\u001b[39m                                 Traceback (most recent call last)",
      "\u001b[36mCell\u001b[39m\u001b[36m \u001b[39m\u001b[32mIn[12]\u001b[39m\u001b[32m, line 5\u001b[39m\n\u001b[32m      3\u001b[39m summation\n\u001b[32m      4\u001b[39m avegare=\u001b[38;5;28msum\u001b[39m(l)/\u001b[38;5;28mlen\u001b[39m(l)\n\u001b[32m----> \u001b[39m\u001b[32m5\u001b[39m \u001b[43maverage\u001b[49m(l)\n",
      "\u001b[31mNameError\u001b[39m: name 'average' is not defined"
     ]
    }
   ],
   "source": [
    "l = [1,2,3,4,5,6,7]\n",
    "summation = sum(l)\n",
    "summation\n",
    "avegare=sum(l)/len(l)\n",
    "average(l)"
   ]
  },
  {
   "cell_type": "markdown",
   "id": "fae688e8-4d5f-4509-bdab-e4f725ca235b",
   "metadata": {},
   "source": [
    "### 8. Python program to print even number"
   ]
  },
  {
   "cell_type": "code",
   "execution_count": 14,
   "id": "1552b040-ff23-4c77-af77-f5a3f9c07091",
   "metadata": {},
   "outputs": [
    {
     "name": "stdout",
     "output_type": "stream",
     "text": [
      "2\n",
      "4\n",
      "6\n",
      "8\n"
     ]
    }
   ],
   "source": [
    "l = [1,2,3,4,5,6,7,8,9]\n",
    "for i in l:\n",
    "    if i%2==0:\n",
    "     print(i)"
   ]
  },
  {
   "cell_type": "markdown",
   "id": "9780394b-90bd-433b-bbaf-dbe76b526eda",
   "metadata": {},
   "source": [
    "### 9.Python program to print odd number"
   ]
  },
  {
   "cell_type": "code",
   "execution_count": 15,
   "id": "f97ec4f6-365f-495a-94c2-9deb903932cf",
   "metadata": {},
   "outputs": [
    {
     "name": "stdout",
     "output_type": "stream",
     "text": [
      "1\n",
      "3\n",
      "5\n",
      "7\n",
      "9\n"
     ]
    }
   ],
   "source": [
    "l = [1,2,3,4,5,6,7,8,9]\n",
    "for i in l:\n",
    "    if i%2!=0:\n",
    "     print(i)"
   ]
  },
  {
   "cell_type": "code",
   "execution_count": 16,
   "id": "b561dbe3-9517-4abb-8dd3-c5ce7231bba9",
   "metadata": {},
   "outputs": [
    {
     "name": "stdout",
     "output_type": "stream",
     "text": [
      "odd\n",
      "even\n",
      "odd\n",
      "even\n",
      "odd\n",
      "even\n",
      "odd\n",
      "even\n",
      "odd\n"
     ]
    }
   ],
   "source": [
    "l = [1,2,3,4,5,6,7,8,9]\n",
    "for i in l:\n",
    "    if i%2==0:\n",
    "      print('even')\n",
    "    else:\n",
    "        print('odd')"
   ]
  },
  {
   "cell_type": "markdown",
   "id": "f34a87ec-b4d3-432d-bd04-cabfe19d4f7d",
   "metadata": {},
   "source": [
    "### 10. remove duplicate from given list"
   ]
  },
  {
   "cell_type": "code",
   "execution_count": 17,
   "id": "d660768d-bf7e-418d-b029-9967a4271073",
   "metadata": {},
   "outputs": [
    {
     "data": {
      "text/plain": [
       "[1, 2, 3, 4, 5, 6, 7, 8]"
      ]
     },
     "execution_count": 17,
     "metadata": {},
     "output_type": "execute_result"
    }
   ],
   "source": [
    "l =[1,1,2,3,3,4,5,6,7,7,8]\n",
    "a = []\n",
    "for i in l:\n",
    "    if i not in a:\n",
    "        a.append(i)\n",
    "a"
   ]
  },
  {
   "cell_type": "markdown",
   "id": "2e45dd1e-39b4-4190-bc4e-a112e5618e39",
   "metadata": {},
   "source": [
    "##### List comprehensions\n",
    " List comprehensions offers a short syntax when you want to create a new list based on value of an existing list\n",
    " This help us to write cleaner,more readable code compared to tradition looping techniques\n",
    " \n",
    " \n"
   ]
  },
  {
   "cell_type": "markdown",
   "id": "6688509a-2233-4341-9fb1-8a38daf63b9e",
   "metadata": {},
   "source": [
    "##### Advantages of comprehension\n",
    "concise : Reduces multiple lines of code into single line\n",
    "Readable : Easier to understand compared to traditional loops for simple operations\n",
    "Efficient : Faster than eqivalent to for loops due to optimized implementation"
   ]
  },
  {
   "cell_type": "code",
   "execution_count": 18,
   "id": "3a665bf3-959c-4263-b1c4-3519b7e4724f",
   "metadata": {},
   "outputs": [
    {
     "data": {
      "text/plain": [
       "[1, 4, 9, 16, 49, 64, 81]"
      ]
     },
     "execution_count": 18,
     "metadata": {},
     "output_type": "execute_result"
    }
   ],
   "source": [
    "## Create a list of squares\n",
    "l = [1,2,3,4,7,8,9]\n",
    "a = []\n",
    "for i in l:\n",
    "    a.append(i*i)\n",
    "a"
   ]
  },
  {
   "cell_type": "code",
   "execution_count": 19,
   "id": "20e9c096-ef1b-47e5-943a-37d5e8ac96c6",
   "metadata": {},
   "outputs": [
    {
     "data": {
      "text/plain": [
       "[1, 4, 9, 16, 49, 64, 81]"
      ]
     },
     "execution_count": 19,
     "metadata": {},
     "output_type": "execute_result"
    }
   ],
   "source": [
    "[i*i for i in l]"
   ]
  },
  {
   "cell_type": "code",
   "execution_count": 21,
   "id": "c0cd274b-cae1-45be-ac05-063a6e8c39e6",
   "metadata": {},
   "outputs": [
    {
     "data": {
      "text/plain": [
       "[2, 4, 8]"
      ]
     },
     "execution_count": 21,
     "metadata": {},
     "output_type": "execute_result"
    }
   ],
   "source": [
    "## filter even numbers\n",
    "a = [1,2,3,4,7,8,9]\n",
    "l = []\n",
    "for i in a:\n",
    "    if i%2==0:\n",
    "        l.append(i)\n",
    "l"
   ]
  },
  {
   "cell_type": "code",
   "execution_count": 25,
   "id": "b9e21757-e7c6-4787-bff9-52d2edddd953",
   "metadata": {},
   "outputs": [
    {
     "data": {
      "text/plain": [
       "[2, 4, 8]"
      ]
     },
     "execution_count": 25,
     "metadata": {},
     "output_type": "execute_result"
    }
   ],
   "source": [
    "[i for i in a if i%2==0]"
   ]
  },
  {
   "cell_type": "code",
   "execution_count": 26,
   "id": "b80cba6e-8315-488c-a9c4-c6899bd6cd0f",
   "metadata": {},
   "outputs": [
    {
     "data": {
      "text/plain": [
       "['HELLO', 'WORLD']"
      ]
     },
     "execution_count": 26,
     "metadata": {},
     "output_type": "execute_result"
    }
   ],
   "source": [
    "a = ['hello','world']\n",
    "l = []\n",
    "for i in a:\n",
    "    l.append(i.upper())\n",
    "l"
   ]
  },
  {
   "cell_type": "code",
   "execution_count": 29,
   "id": "8b8ce14b-8717-416e-8af3-7d81602cf7c6",
   "metadata": {},
   "outputs": [
    {
     "data": {
      "text/plain": [
       "['HELLO', 'WORLD']"
      ]
     },
     "execution_count": 29,
     "metadata": {},
     "output_type": "execute_result"
    }
   ],
   "source": [
    "[i.upper() for i in a]"
   ]
  },
  {
   "cell_type": "markdown",
   "id": "dad2a44a-835b-4b90-9bc0-92663eb46fc9",
   "metadata": {},
   "source": [
    "##### Tuple\n",
    "Tuples are used to store multiple items in a single variable\n",
    "Tuples is one of 4 built in data types in python used to store collection of data,the other are 3 are list,and dictionary,all with different\n",
    "qualities and usages\n",
    "A tuple is a collection which is ordered and unchangable\n",
    "Tuples are written with round brackets\n",
    "### Key feature\n",
    "Tuples items are ordered,unchangeable and allow duplicate values\n",
    "Tuple items are indexed,the first item has index[0], the second item has index[1] etc\n",
    "### Ordered\n",
    "When we say that tuples are ordered,it means that the items have a defined orders and that order will not change \n",
    "### Unchangeable\n",
    "Tuples are unchageable,that we cannot change,add or remove items after the tuples has been created\n",
    "### Allow duplicates\n",
    "since tuples are indexed, they can have  items with the same values\n",
    "#### Why use tuples\n",
    "immutability: Ensure that the data remains unchanged,ideal for constant\n",
    "fast access : tuples are faster than index due to thier immutability\n",
    "Tuple are a valuable tool for grouping related data while maintaining integrity and improving performance\n"
   ]
  },
  {
   "cell_type": "code",
   "execution_count": 1,
   "id": "57978d03-132b-487c-a084-d70911ed294c",
   "metadata": {},
   "outputs": [
    {
     "data": {
      "text/plain": [
       "'apple'"
      ]
     },
     "execution_count": 1,
     "metadata": {},
     "output_type": "execute_result"
    }
   ],
   "source": [
    "a = ('apple','orange','banana','cherry','apple')\n",
    "a[0]"
   ]
  },
  {
   "cell_type": "code",
   "execution_count": 2,
   "id": "b7c82e14-1c43-42f0-bb68-2d807307a704",
   "metadata": {},
   "outputs": [
    {
     "data": {
      "text/plain": [
       "tuple"
      ]
     },
     "execution_count": 2,
     "metadata": {},
     "output_type": "execute_result"
    }
   ],
   "source": [
    "## create tuple\n",
    "a = ()\n",
    "type(a)"
   ]
  },
  {
   "cell_type": "code",
   "execution_count": 3,
   "id": "30ae8fbd-d00f-4cc6-9c1e-547842ef67ec",
   "metadata": {},
   "outputs": [
    {
     "data": {
      "text/plain": [
       "list"
      ]
     },
     "execution_count": 3,
     "metadata": {},
     "output_type": "execute_result"
    }
   ],
   "source": [
    "a =[]\n",
    "type(a)"
   ]
  },
  {
   "cell_type": "code",
   "execution_count": 7,
   "id": "5b0a3b8d-9364-4ddf-a6d7-9360818e86e5",
   "metadata": {},
   "outputs": [
    {
     "data": {
      "text/plain": [
       "10.6"
      ]
     },
     "execution_count": 7,
     "metadata": {},
     "output_type": "execute_result"
    }
   ],
   "source": [
    "### access tuples -- indexing \n",
    "# starts - 0\n",
    "# ends - -1\n",
    "a = (55,'abc',10.6)\n",
    "a[0]\n",
    "a[-1]"
   ]
  },
  {
   "cell_type": "code",
   "execution_count": 5,
   "id": "c820a6ed-3c76-4c43-9f94-58fbb05df4dc",
   "metadata": {},
   "outputs": [
    {
     "data": {
      "text/plain": [
       "tuple"
      ]
     },
     "execution_count": 5,
     "metadata": {},
     "output_type": "execute_result"
    }
   ],
   "source": [
    "type(a)"
   ]
  },
  {
   "cell_type": "code",
   "execution_count": null,
   "id": "f519acaf-452c-4340-8372-f2ea275c5d97",
   "metadata": {},
   "outputs": [],
   "source": [
    "### unchangable and immutable\n",
    "a = (55,'abc',10.6)\n"
   ]
  },
  {
   "cell_type": "code",
   "execution_count": 10,
   "id": "0a810fa3-5685-4aa7-8012-fa91463ea12e",
   "metadata": {},
   "outputs": [
    {
     "data": {
      "text/plain": [
       "(55, 'abc', 10.6, 10)"
      ]
     },
     "execution_count": 10,
     "metadata": {},
     "output_type": "execute_result"
    }
   ],
   "source": [
    "### since tuples are immutable, they don't have a built-in append method,\n",
    "## but there are way to add items to tuples.\n",
    "# 1. convert into a list\n",
    "# 2. add tuple to a tuple\n",
    "a = (55,'abc',10.6)\n",
    "a = list(a)\n",
    "a.append(10)\n",
    "tuple(a)"
   ]
  },
  {
   "cell_type": "code",
   "execution_count": null,
   "id": "2f5f0ecf-a486-4ea7-a87e-1371fa33533f",
   "metadata": {},
   "outputs": [],
   "source": [
    "# we can't remove from tuple"
   ]
  },
  {
   "cell_type": "code",
   "execution_count": null,
   "id": "d12e37d7-ebac-490c-9677-f34398402033",
   "metadata": {},
   "outputs": [],
   "source": [
    "# we can delete from tuple"
   ]
  },
  {
   "cell_type": "code",
   "execution_count": 11,
   "id": "ca842100-8365-4cb6-8612-744b91bae710",
   "metadata": {},
   "outputs": [
    {
     "data": {
      "text/plain": [
       "1"
      ]
     },
     "execution_count": 11,
     "metadata": {},
     "output_type": "execute_result"
    }
   ],
   "source": [
    "# count\n",
    "a = (1,2,3,5,7,9)\n",
    "a.count(5)"
   ]
  },
  {
   "cell_type": "code",
   "execution_count": null,
   "id": "49eddb90-6fc0-4bef-8d9a-51f721311e87",
   "metadata": {},
   "outputs": [],
   "source": [
    "# index\n",
    "a = (1,2,3,5,6,7,9)"
   ]
  },
  {
   "cell_type": "markdown",
   "id": "2a04a92b-b3e7-4b8a-b6c1-79b2cb3506cf",
   "metadata": {},
   "source": [
    "###### Set\n",
    "sets are used to store multiple items in single variables\n",
    "Set is one of 4 built in data type in python used to store collections of data, the other 3 are List,Tuple and dictionary all with different qualities and usage\n",
    "A set is a collection which is unordered,unchangeable  and unindexed\n",
    "###### Key Features\n",
    "##### Unordered\n",
    "Unordered means that the items in a set do not have a defined order\n",
    "Set items can appear in different order every time you use them, and cannot be referred to by index or key\n",
    "##### Unchangeable\n",
    "Set items are unchageable meaning that we cannot change the items after the set has been created\n",
    "Once a set is created,you cannot change the items,but you can remove items and add new add items \n",
    "###### Duplicates not allowed\n",
    "Sets cannot have two items with the same values \n"
   ]
  },
  {
   "cell_type": "code",
   "execution_count": 12,
   "id": "8ab77ef2-1a77-40c1-ab20-f87acff1bb9e",
   "metadata": {},
   "outputs": [
    {
     "data": {
      "text/plain": [
       "['apple', 'banana', 'cherry']"
      ]
     },
     "execution_count": 12,
     "metadata": {},
     "output_type": "execute_result"
    }
   ],
   "source": [
    "thisset = {\"apple\",\"banana\",\"cherry\"}\n",
    "thisset"
   ]
  },
  {
   "cell_type": "code",
   "execution_count": 14,
   "id": "7154c5ed-a726-4948-9475-9e6a498b451b",
   "metadata": {},
   "outputs": [
    {
     "data": {
      "text/plain": [
       "set"
      ]
     },
     "execution_count": 14,
     "metadata": {},
     "output_type": "execute_result"
    }
   ],
   "source": [
    "### Create sets \n",
    "a = set()\n",
    "type(a)\n",
    "b = {1,3,4,5,7,9}\n",
    "type(b)"
   ]
  },
  {
   "cell_type": "code",
   "execution_count": 15,
   "id": "367863ad-8492-4cd0-89fe-aa46f14e920f",
   "metadata": {},
   "outputs": [
    {
     "name": "stdout",
     "output_type": "stream",
     "text": [
      "1\n",
      "3\n",
      "4\n",
      "5\n",
      "7\n",
      "9\n"
     ]
    }
   ],
   "source": [
    "### Access Items\n",
    "## you cannot access items in a set by referral to an index or a key\n",
    "## BT we can loop\n",
    "b = {1,3,4,5,7,9}\n",
    "for i in b:\n",
    "    print(i)\n",
    "\n"
   ]
  },
  {
   "cell_type": "code",
   "execution_count": 16,
   "id": "98f1dd66-d320-49e4-b514-c9f617278d31",
   "metadata": {},
   "outputs": [
    {
     "data": {
      "text/plain": [
       "{1, 2, 3, 4, 5, 6, 7, 9}"
      ]
     },
     "execution_count": 16,
     "metadata": {},
     "output_type": "execute_result"
    }
   ],
   "source": [
    "### Add items\n",
    "# once a set is created, you cannot change the items,but you can add new items\n",
    "b = {1,2,3,4,6,7,9}\n",
    "# Add\n",
    "b.add(5)\n",
    "b"
   ]
  },
  {
   "cell_type": "code",
   "execution_count": 17,
   "id": "36abe3e7-023e-4ead-a1e3-d06dc3a8acbc",
   "metadata": {},
   "outputs": [
    {
     "data": {
      "text/plain": [
       "{1, 2, 3, 4, 6, 7, 9, 'a', 'b', 'c'}"
      ]
     },
     "execution_count": 17,
     "metadata": {},
     "output_type": "execute_result"
    }
   ],
   "source": [
    "## Update\n",
    "b = {1,2,3,4,6,7,9,'a'}\n",
    "a = {'b','c'}\n",
    "b.update(a)\n",
    "b"
   ]
  },
  {
   "cell_type": "code",
   "execution_count": 18,
   "id": "456718f0-5dd3-433a-8305-1f46957167b6",
   "metadata": {},
   "outputs": [
    {
     "data": {
      "text/plain": [
       "{1, 2, 3, 6, 7, 9, 'a'}"
      ]
     },
     "execution_count": 18,
     "metadata": {},
     "output_type": "execute_result"
    }
   ],
   "source": [
    "## Remove\n",
    "b = {1,2,3,4,6,7,9,'a'}\n",
    "b.remove(4)\n",
    "b"
   ]
  },
  {
   "cell_type": "code",
   "execution_count": 19,
   "id": "ce03e551-8ef8-4f36-a8c9-589da42d9eab",
   "metadata": {},
   "outputs": [
    {
     "data": {
      "text/plain": [
       "{1, 2, 3, 6, 7, 9, 'a'}"
      ]
     },
     "execution_count": 19,
     "metadata": {},
     "output_type": "execute_result"
    }
   ],
   "source": [
    "## discard\n",
    "b = {1,2,3,4,6,7,9,'a'}\n",
    "b.discard(4)\n",
    "b"
   ]
  },
  {
   "cell_type": "code",
   "execution_count": 24,
   "id": "5b977f3d-760b-405c-abc7-bad3eed2d46b",
   "metadata": {},
   "outputs": [
    {
     "data": {
      "text/plain": [
       "{2, 3, 4, 6, 7, 9, 'a'}"
      ]
     },
     "execution_count": 24,
     "metadata": {},
     "output_type": "execute_result"
    }
   ],
   "source": [
    "### pop\n",
    "# note : sets are unordered,so when using the pop() method, you don't know which item that gets removed\n",
    "b = {1,2,3,4,6,7,9,'a'}\n",
    "b.pop()\n",
    "b"
   ]
  },
  {
   "cell_type": "code",
   "execution_count": 26,
   "id": "655e7b88-6788-44bc-bfe1-3ae40520f067",
   "metadata": {},
   "outputs": [
    {
     "data": {
      "text/plain": [
       "set()"
      ]
     },
     "execution_count": 26,
     "metadata": {},
     "output_type": "execute_result"
    }
   ],
   "source": [
    "### clear\n",
    "# the clear() method empties the set:\n",
    "a.clear()\n",
    "a\n"
   ]
  },
  {
   "cell_type": "code",
   "execution_count": null,
   "id": "50141854-4a17-4f4b-9a9c-4bf5bcad59f4",
   "metadata": {},
   "outputs": [],
   "source": [
    "## del\n"
   ]
  },
  {
   "cell_type": "code",
   "execution_count": 27,
   "id": "e89ebf8c-9f3d-4aa6-bb3b-dfade076cb17",
   "metadata": {},
   "outputs": [
    {
     "name": "stdout",
     "output_type": "stream",
     "text": [
      "{'d', 1, 2, 3, 4, 'c', 'a', 'b'}\n"
     ]
    }
   ],
   "source": [
    "### Union\n",
    "set1 = {\"a\",\"b\",\"c\",\"d\"}\n",
    "set2 = {1,2,3,4}\n",
    "set3 = set1.union(set2)\n",
    "print(set3)"
   ]
  },
  {
   "cell_type": "code",
   "execution_count": null,
   "id": "1a175837-e846-42f8-9238-bb02ef4cdfb4",
   "metadata": {},
   "outputs": [],
   "source": [
    "#### Dictionary\n"
   ]
  },
  {
   "cell_type": "code",
   "execution_count": 1,
   "id": "a9d48272-fbae-4a60-a029-609cf2d67633",
   "metadata": {},
   "outputs": [
    {
     "name": "stdout",
     "output_type": "stream",
     "text": [
      "hello ramu good morning\n"
     ]
    }
   ],
   "source": [
    "def wish(name):\n",
    "    print(\"hello\",name,\"good morning\")\n",
    "    \n",
    "#wish(\"pawan\")\n",
    "wish(\"ramu\")"
   ]
  },
  {
   "cell_type": "markdown",
   "id": "222813e0-e6bf-4986-ae11-4c373fb72449",
   "metadata": {},
   "source": [
    "##### Return Statement\n",
    "function can takes input values as a parameters and executes business logic and returns output as return statement"
   ]
  },
  {
   "cell_type": "code",
   "execution_count": 3,
   "id": "b4308c05-3043-4c93-8962-f4af85039fd9",
   "metadata": {},
   "outputs": [
    {
     "data": {
      "text/plain": [
       "30"
      ]
     },
     "execution_count": 3,
     "metadata": {},
     "output_type": "execute_result"
    }
   ],
   "source": [
    "def add(x,y):\n",
    "    return x+y\n",
    "add(10,20)\n",
    "     "
   ]
  },
  {
   "cell_type": "code",
   "execution_count": 5,
   "id": "9a1a8284-833b-46b4-aced-a96a12682746",
   "metadata": {},
   "outputs": [
    {
     "name": "stdout",
     "output_type": "stream",
     "text": [
      "the given number is odd\n"
     ]
    }
   ],
   "source": [
    "def even_odd(num):\n",
    "    if num%2==0:\n",
    "        #print(\"the given number is Even\")\n",
    "        print(\"{} number is Even..\".format(num))\n",
    "    else:\n",
    "        print(\"the given number is odd\")\n",
    "even_odd(10.5)\n",
    "        "
   ]
  },
  {
   "cell_type": "code",
   "execution_count": 6,
   "id": "5aeb12ec-9668-41fe-8f13-a0e8199951ea",
   "metadata": {},
   "outputs": [
    {
     "data": {
      "text/plain": [
       "120"
      ]
     },
     "execution_count": 6,
     "metadata": {},
     "output_type": "execute_result"
    }
   ],
   "source": [
    "def fact(num):\n",
    "    result=1\n",
    "    while num>=1:\n",
    "        result = result*num\n",
    "        num = num-1\n",
    "    return result\n",
    "\n",
    "fact(5)"
   ]
  },
  {
   "cell_type": "markdown",
   "id": "49e640f9-73b1-4d70-9dc5-2760180920a8",
   "metadata": {},
   "source": [
    "#### In Python a function can return multiple values"
   ]
  },
  {
   "cell_type": "code",
   "execution_count": 7,
   "id": "77cbc7d4-4e2d-4753-ad9f-dbc2bcfa4cc4",
   "metadata": {},
   "outputs": [
    {
     "data": {
      "text/plain": [
       "(30, 10)"
      ]
     },
     "execution_count": 7,
     "metadata": {},
     "output_type": "execute_result"
    }
   ],
   "source": [
    "def sum_sub(x,y):\n",
    "    sum=x+y\n",
    "    sub=x-y\n",
    "    return sum,sub\n",
    "\n",
    "sum_sub(20,10)"
   ]
  },
  {
   "cell_type": "code",
   "execution_count": 3,
   "id": "a926bb1f-7495-4972-b4a2-e23f73642d06",
   "metadata": {},
   "outputs": [
    {
     "name": "stdout",
     "output_type": "stream",
     "text": [
      "my name is: pawan age is: 26\n"
     ]
    }
   ],
   "source": [
    "def wish(name,age):\n",
    "    print(\"my name is:\",name,\"age is:\",age)\n",
    "wish(age=26,name=\"pawan\")"
   ]
  },
  {
   "cell_type": "code",
   "execution_count": 8,
   "id": "b22ff0eb-7960-420a-a272-2c1a73718292",
   "metadata": {},
   "outputs": [
    {
     "name": "stdout",
     "output_type": "stream",
     "text": [
      "Hello anu how are you\n"
     ]
    }
   ],
   "source": [
    "def wish(name,msg):\n",
    "    print(\"Hello\",name,msg)\n",
    "wish(name=\"anu\",msg=\"how are you\")"
   ]
  },
  {
   "cell_type": "code",
   "execution_count": 10,
   "id": "6e2402a7-beed-488a-9f27-b3e35b6eac4d",
   "metadata": {},
   "outputs": [
    {
     "name": "stdout",
     "output_type": "stream",
     "text": [
      "hello guest welcome to bhrundhavan\n"
     ]
    }
   ],
   "source": [
    "def wish(name=\"guest\"):\n",
    "    print(\"hello\",name,\"welcome to bhrundhavan\")\n",
    "\n",
    "\n",
    "wish()"
   ]
  },
  {
   "cell_type": "code",
   "execution_count": 16,
   "id": "209a5295-02c7-4499-ba2f-4aa848392b3c",
   "metadata": {},
   "outputs": [],
   "source": [
    "bank = \"SBI\"\n",
    "ifsc = \"SBIN00005366\"\n",
    "place = \"Bhimavaram\"\n",
    "pincode = 534202\n",
    "\n",
    "def customer1(credit):\n",
    "    bal = 10000\n",
    "    total = bal+credit\n",
    "    \n",
    "    global branch\n",
    "    branch = \"ADB\"\n",
    "    \n",
    "    pincode = 534201\n",
    "    \n",
    "    print(\"total amount in account : \",total)\n",
    "    print(place)\n",
    "    print(ifsc)\n",
    "    print(\"customer pincode : \",pincode)\n",
    "    print(\"Bank pincode : \",globals()['pincode'])\n",
    "    \n",
    "def customer2(creidte):\n",
    "    print(total)\n",
    "    print(branch)"
   ]
  },
  {
   "cell_type": "code",
   "execution_count": 18,
   "id": "a79cff31-9dc2-4356-8edd-f24a0a6c52d2",
   "metadata": {},
   "outputs": [
    {
     "name": "stdout",
     "output_type": "stream",
     "text": [
      "total amount in account :  30000\n",
      "Bhimavaram\n",
      "SBIN00005366\n",
      "customer pincode :  534201\n",
      "Bank pincode :  534202\n"
     ]
    }
   ],
   "source": [
    "customer1(20000)\n"
   ]
  },
  {
   "cell_type": "markdown",
   "id": "42295ba0-8ff2-40f9-bb2e-dacc7f58128b",
   "metadata": {},
   "source": [
    "#### 3.Recursive Functions\n",
    "A function that calls itself is called recursive function\n",
    "Advantages:\n",
    "we can reduce length of the code and improves readability\n",
    "we can solve complex problems very easily"
   ]
  },
  {
   "cell_type": "code",
   "execution_count": 19,
   "id": "291c8c6c-9ec8-419c-bda3-e2b8bb506bd2",
   "metadata": {},
   "outputs": [
    {
     "data": {
      "text/plain": [
       "120"
      ]
     },
     "execution_count": 19,
     "metadata": {},
     "output_type": "execute_result"
    }
   ],
   "source": [
    "# without recursive\n",
    "def fact(num):\n",
    "    result=1\n",
    "    while num>=1:\n",
    "        result = result*num\n",
    "        num=num-1\n",
    "    return result\n",
    "fact(5)"
   ]
  },
  {
   "cell_type": "code",
   "execution_count": 20,
   "id": "73f3ccd7-73b1-4c37-9e02-91630ee8a181",
   "metadata": {},
   "outputs": [
    {
     "data": {
      "text/plain": [
       "120"
      ]
     },
     "execution_count": 20,
     "metadata": {},
     "output_type": "execute_result"
    }
   ],
   "source": [
    "# with recursive\n",
    "#factorial(3) = 3*factorial(2) = 3*2*factorial(1)\n",
    "def factorial(n):\n",
    "    if n==0:\n",
    "        result=1\n",
    "    else:\n",
    "        result = n*factorial(n-1)\n",
    "    return result\n",
    "factorial(5) \n"
   ]
  },
  {
   "cell_type": "code",
   "execution_count": null,
   "id": "ffc02512-2764-4c9f-a274-21e92b84aedf",
   "metadata": {},
   "outputs": [],
   "source": [
    "when we want to a iterate a sequence of values"
   ]
  },
  {
   "cell_type": "code",
   "execution_count": null,
   "id": "450bbdf3-ba97-42de-8ded-2d97c0ed32e4",
   "metadata": {},
   "outputs": [],
   "source": [
    "list, set, tuple, dict"
   ]
  },
  {
   "cell_type": "code",
   "execution_count": 21,
   "id": "15669ece-dc51-42b2-9e70-df2f8a420a4b",
   "metadata": {},
   "outputs": [
    {
     "name": "stdout",
     "output_type": "stream",
     "text": [
      "0\n",
      "1\n",
      "2\n",
      "3\n",
      "4\n",
      "5\n",
      "6\n",
      "7\n",
      "8\n",
      "9\n"
     ]
    }
   ],
   "source": [
    "for i in range(0,10):\n",
    "    print(i)"
   ]
  },
  {
   "cell_type": "code",
   "execution_count": 25,
   "id": "5e620a12-378b-49cd-905c-677cbe7556ae",
   "metadata": {},
   "outputs": [
    {
     "name": "stdout",
     "output_type": "stream",
     "text": [
      "0\n",
      "1\n",
      "2\n",
      "3\n",
      "4\n",
      "5\n"
     ]
    }
   ],
   "source": [
    "i=0 \n",
    "while i<= 5:\n",
    "    print(i)\n",
    "    i+=1"
   ]
  },
  {
   "cell_type": "code",
   "execution_count": 44,
   "id": "5a047332-9d03-42bd-8555-eaf8fda0c69c",
   "metadata": {},
   "outputs": [
    {
     "name": "stdin",
     "output_type": "stream",
     "text": [
      "Enter the value: 10+2j\n"
     ]
    },
    {
     "name": "stdout",
     "output_type": "stream",
     "text": [
      "<class 'complex'>\n"
     ]
    }
   ],
   "source": [
    "x = complex(input(\"Enter the value:\"))\n",
    "print(type(x))"
   ]
  },
  {
   "cell_type": "code",
   "execution_count": null,
   "id": "71e9ae36-e9f5-4e0e-8dec-50aa178156dc",
   "metadata": {},
   "outputs": [],
   "source": []
  }
 ],
 "metadata": {
  "kernelspec": {
   "display_name": "Python 3 (ipykernel)",
   "language": "python",
   "name": "python3"
  },
  "language_info": {
   "codemirror_mode": {
    "name": "ipython",
    "version": 3
   },
   "file_extension": ".py",
   "mimetype": "text/x-python",
   "name": "python",
   "nbconvert_exporter": "python",
   "pygments_lexer": "ipython3",
   "version": "3.13.5"
  }
 },
 "nbformat": 4,
 "nbformat_minor": 5
}
